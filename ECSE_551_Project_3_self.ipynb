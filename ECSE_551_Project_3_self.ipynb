{
 "cells": [
  {
   "cell_type": "markdown",
   "metadata": {
    "id": "7jA04fuOR3Dy"
   },
   "source": [
    "# ECSE 551 MP3 G17"
   ]
  },
  {
   "cell_type": "markdown",
   "metadata": {
    "id": "0PtEpsotR6FH"
   },
   "source": "## 定义常量、导入外部库和数据集、准备CUDA设备"
  },
  {
   "cell_type": "code",
   "metadata": {
    "colab": {
     "base_uri": "https://localhost:8080/"
    },
    "id": "yn24H1_YQsbg",
    "outputId": "532b5f40-fc9d-42b0-bc20-21a78020b268",
    "ExecuteTime": {
     "end_time": "2024-12-05T01:29:10.368318Z",
     "start_time": "2024-12-05T01:29:06.030522Z"
    }
   },
   "source": [
    "# 导入必要的库\n",
    "import numpy as np\n",
    "import pandas as pd\n",
    "import pickle\n",
    "import matplotlib.pyplot as plt\n",
    "import os\n",
    "import platform\n",
    "import torch\n",
    "import torch.nn as nn\n",
    "import torch.optim as optim\n",
    "from torch.utils.benchmark.examples.spectral_ops_fuzz_test import DEVICE_NAMES\n",
    "from torch.optim.lr_scheduler import CosineAnnealingLR\n",
    "from torch.utils.data import DataLoader, Dataset\n",
    "from sklearn.model_selection import KFold\n",
    "\n",
    "# 设置设备\n",
    "DEVICE = torch.device(\"cuda\" if torch.cuda.is_available() else \"cpu\")\n",
    "print(\"Using device:\", DEVICE)\n",
    "\n",
    "# 设置训练的batch大小\n",
    "THE_BATCH_SIZE = 32\n",
    "\n",
    "# 检测操作系统并设置基础路径\n",
    "if platform.system() == 'Windows':\n",
    "    base_path = 'F:\\\\Personal_file\\\\work_area\\\\Study\\\\ECSE_551\\\\Project3\\\\DataSet'\n",
    "    # 定义全局常量和文件路径\n",
    "    TRAIN_PKL_FILE = os.path.join(base_path + '\\\\Train.pkl')\n",
    "    TRAIN_LABEL_FILE = os.path.join(base_path + '\\\\Train_labels.csv')\n",
    "    TEST_PKL_FILE = os.path.join(base_path + '\\\\Test.pkl')\n",
    "    SUBMISSION_FILE = os.path.join(base_path + '\\\\Submission' + '-CNN-2' + '.csv')\n",
    "else:\n",
    "    base_path = os.path.join('/mnt/f/Personal_file/work_area/Study/ECSE_551/Project3/DataSet')\n",
    "    TRAIN_PKL_FILE = os.path.join(base_path + '/Train.pkl')\n",
    "    TRAIN_LABEL_FILE = os.path.join(base_path + '/Train_labels.csv')\n",
    "    TEST_PKL_FILE = os.path.join(base_path + '/Test.pkl')\n",
    "    SUBMISSION_FILE = os.path.join(base_path + '/Submission' + '-CNN-2' + '.csv')\n",
    "\n",
    "print(\"Train PKL File Path:\", TRAIN_PKL_FILE)\n",
    "print(\"Train Label File Path:\", TRAIN_LABEL_FILE)\n",
    "print(\"Test PKL File Path:\", TEST_PKL_FILE)\n",
    "print(\"Submission File Path:\", SUBMISSION_FILE)"
   ],
   "outputs": [
    {
     "name": "stdout",
     "output_type": "stream",
     "text": [
      "Using device: cuda\n",
      "Train PKL File Path: F:\\Personal_file\\work_area\\Study\\ECSE_551\\Project3\\DataSet\\Train.pkl\n",
      "Train Label File Path: F:\\Personal_file\\work_area\\Study\\ECSE_551\\Project3\\DataSet\\Train_labels.csv\n",
      "Test PKL File Path: F:\\Personal_file\\work_area\\Study\\ECSE_551\\Project3\\DataSet\\Test.pkl\n",
      "Submission File Path: F:\\Personal_file\\work_area\\Study\\ECSE_551\\Project3\\DataSet\\Submission-CNN-2.csv\n"
     ]
    }
   ],
   "execution_count": 1
  },
  {
   "cell_type": "markdown",
   "metadata": {
    "id": "Mdk157xdTF-z"
   },
   "source": "## 正式开始"
  },
  {
   "cell_type": "markdown",
   "metadata": {
    "id": "cYNPfIdAUr7V"
   },
   "source": "### 尝试读取训练数据，并显示第一张图片"
  },
  {
   "cell_type": "code",
   "metadata": {
    "colab": {
     "base_uri": "https://localhost:8080/",
     "height": 487
    },
    "id": "638MRjaPTEPb",
    "outputId": "35284fd4-1419-4080-d192-794c61abef6f",
    "ExecuteTime": {
     "end_time": "2024-12-05T01:29:16.420788Z",
     "start_time": "2024-12-05T01:29:16.236754Z"
    }
   },
   "source": [
    "# 加载训练数据和标签\n",
    "with open(TRAIN_PKL_FILE, 'rb') as file:\n",
    "    train_data = pickle.load(file)\n",
    "\n",
    "labels_df = pd.read_csv(TRAIN_LABEL_FILE)\n",
    "labels_dict = dict(zip(labels_df['id'], labels_df['class']))\n",
    "train_labels = [labels_dict.get(i + 1, 'Unknown') for i in range(len(train_data))]\n",
    "\n",
    "# 检查数据结构\n",
    "print(type(train_data))  # 查看数据类型\n",
    "print(\"Data dimensions:\", train_data[0].shape)  # 检查数据维度\n",
    "\n",
    "# 显示第一张图片（假设是灰度图像）\n",
    "plt.imshow(train_data[0].squeeze(), cmap='gray')\n",
    "plt.title(f\"Label: {train_labels[0]}\")\n",
    "plt.show()\n"
   ],
   "outputs": [
    {
     "name": "stdout",
     "output_type": "stream",
     "text": [
      "<class 'numpy.ndarray'>\n",
      "Data dimensions: (1, 28, 28)\n"
     ]
    },
    {
     "data": {
      "text/plain": [
       "<Figure size 640x480 with 1 Axes>"
      ],
      "image/png": "[encoded data removed]"
     },
     "metadata": {},
     "output_type": "display_data"
    }
   ],
   "execution_count": 2
  },
  {
   "cell_type": "markdown",
   "metadata": {},
   "source": "### 定义自定义数据集并准备数据"
  },
  {
   "cell_type": "code",
   "metadata": {
    "ExecuteTime": {
     "end_time": "2024-12-05T01:29:19.597045Z",
     "start_time": "2024-12-05T01:29:19.567900Z"
    }
   },
   "source": [
    "# 定义自定义数据集\n",
    "class CustomDataset(Dataset):\n",
    "    def __init__(self, data, labels):\n",
    "        self.data = torch.tensor(data, dtype=torch.float32)\n",
    "        self.labels = torch.tensor(labels, dtype=torch.long)\n",
    "\n",
    "    def __len__(self):\n",
    "        return len(self.data)\n",
    "\n",
    "    def __getitem__(self, idx):\n",
    "        image = self.data[idx]\n",
    "        label = self.labels[idx]\n",
    "        return image, label\n",
    "\n",
    "# 创建数据集和数据加载器\n",
    "train_dataset = CustomDataset(train_data, train_labels)"
   ],
   "outputs": [],
   "execution_count": 3
  },
  {
   "cell_type": "markdown",
   "metadata": {},
   "source": [
    "## CNN"
   ]
  },
  {
   "cell_type": "markdown",
   "metadata": {},
   "source": "### 定义 CNN 模型"
  },
  {
   "cell_type": "code",
   "metadata": {
    "ExecuteTime": {
     "end_time": "2024-12-05T01:29:22.007352Z",
     "start_time": "2024-12-05T01:29:22.001354Z"
    }
   },
   "source": [
    "# 定义 CNN 模型\n",
    "class SimpleCNN(nn.Module):\n",
    "    def __init__(self):\n",
    "        super(SimpleCNN, self).__init__()\n",
    "        self.conv1 = nn.Conv2d(1, 64, kernel_size=5, padding=2)\n",
    "        self.bn1 = nn.BatchNorm2d(64)\n",
    "        self.conv2 = nn.Conv2d(64, 128, kernel_size=5, padding=2)\n",
    "        self.bn2 = nn.BatchNorm2d(128)\n",
    "        self.conv3 = nn.Conv2d(128, 256, kernel_size=3, padding=1)\n",
    "        self.bn3 = nn.BatchNorm2d(256)\n",
    "        self.conv4 = nn.Conv2d(256, 512, kernel_size=3, padding=1)\n",
    "        self.bn4 = nn.BatchNorm2d(512)\n",
    "        self.pool = nn.MaxPool2d(2, 2)\n",
    "        self.fc1 = nn.Linear(512 * 1 * 1, 1024)\n",
    "        self.fc2 = nn.Linear(1024, 512)\n",
    "        self.fc3 = nn.Linear(512, 256)\n",
    "        self.fc4 = nn.Linear(256, 10)  # 10 classes\n",
    "\n",
    "    def forward(self, x):\n",
    "        x = self.pool(torch.relu(self.bn1(self.conv1(x))))\n",
    "        x = self.pool(torch.relu(self.bn2(self.conv2(x))))\n",
    "        x = self.pool(torch.relu(self.bn3(self.conv3(x))))\n",
    "        x = self.pool(torch.relu(self.bn4(self.conv4(x))))\n",
    "        x = x.view(x.size(0), -1)  # Flatten the tensor\n",
    "        x = torch.relu(self.fc1(x))\n",
    "        x = torch.relu(self.fc2(x))\n",
    "        x = torch.relu(self.fc3(x))\n",
    "        x = self.fc4(x)\n",
    "        return x"
   ],
   "outputs": [],
   "execution_count": 4
  },
  {
   "metadata": {
    "ExecuteTime": {
     "end_time": "2024-12-05T01:29:23.792696Z",
     "start_time": "2024-12-05T01:29:23.785846Z"
    }
   },
   "cell_type": "code",
   "source": [
    "# 定义扩展后的 CNN 模型\n",
    "class ExtendedCNN(nn.Module):\n",
    "    def __init__(self):\n",
    "        super(ExtendedCNN, self).__init__()\n",
    "        self.conv1 = nn.Conv2d(1, 128, kernel_size=5, padding=2)\n",
    "        self.bn1 = nn.BatchNorm2d(128)\n",
    "        self.conv2 = nn.Conv2d(128, 256, kernel_size=5, padding=2)\n",
    "        self.bn2 = nn.BatchNorm2d(256)\n",
    "        self.conv3 = nn.Conv2d(256, 512, kernel_size=3, padding=1)\n",
    "        self.bn3 = nn.BatchNorm2d(512)\n",
    "        self.conv4 = nn.Conv2d(512, 1024, kernel_size=3, padding=1)\n",
    "        self.bn4 = nn.BatchNorm2d(1024)\n",
    "        self.conv5 = nn.Conv2d(1024, 1024, kernel_size=3, padding=1)\n",
    "        self.bn5 = nn.BatchNorm2d(1024)\n",
    "        self.pool = nn.MaxPool2d(2, 2)\n",
    "        self.global_pool = nn.AdaptiveAvgPool2d((1, 1))\n",
    "        self.fc1 = nn.Linear(1024, 2048)\n",
    "        self.fc2 = nn.Linear(2048, 1024)\n",
    "        self.fc3 = nn.Linear(1024, 512)\n",
    "        self.fc4 = nn.Linear(512, 10)  # 10 个类别\n",
    "\n",
    "    def forward(self, x):\n",
    "        x = self.pool(torch.relu(self.bn1(self.conv1(x))))  # 输出尺寸减半\n",
    "        x = self.pool(torch.relu(self.bn2(self.conv2(x))))  # 输出尺寸减半\n",
    "        x = self.pool(torch.relu(self.bn3(self.conv3(x))))  # 输出尺寸减半\n",
    "        x = torch.relu(self.bn4(self.conv4(x)))             # 不进行池化，保持尺寸\n",
    "        x = torch.relu(self.bn5(self.conv5(x)))             # 不进行池化，保持尺寸\n",
    "        x = self.global_pool(x)                             # 全局平均池化到 1x1\n",
    "        x = x.view(x.size(0), -1)                           # 展平张量\n",
    "        x = torch.relu(self.fc1(x))\n",
    "        x = torch.relu(self.fc2(x))\n",
    "        x = torch.relu(self.fc3(x))\n",
    "        x = self.fc4(x)\n",
    "        return x"
   ],
   "outputs": [],
   "execution_count": 5
  },
  {
   "metadata": {},
   "cell_type": "markdown",
   "source": "## Transformer"
  },
  {
   "metadata": {
    "ExecuteTime": {
     "end_time": "2024-12-04T23:51:42.440830Z",
     "start_time": "2024-12-04T23:51:42.434617Z"
    }
   },
   "cell_type": "code",
   "source": [
    "# 定义 Vision Transformer 模型\n",
    "class VisionTransformer(nn.Module):\n",
    "    def __init__(self, img_size=28, patch_size=7, in_channels=1, num_classes=10, embed_dim=768, depth=12, num_heads=12, mlp_dim=3072):\n",
    "        super(VisionTransformer, self).__init__()\n",
    "        self.num_patches = (img_size // patch_size) ** 2\n",
    "        self.patch_dim = in_channels * patch_size * patch_size\n",
    "        self.embed_dim = embed_dim\n",
    "\n",
    "        # 图像切块\n",
    "        self.patch_embeddings = nn.Conv2d(in_channels=in_channels, out_channels=embed_dim, kernel_size=patch_size, stride=patch_size)\n",
    "\n",
    "        # 位置编码\n",
    "        self.position_embeddings = nn.Parameter(torch.zeros(1, self.num_patches + 1, embed_dim))\n",
    "\n",
    "        # 分类标识符\n",
    "        self.cls_token = nn.Parameter(torch.zeros(1, 1, embed_dim))\n",
    "\n",
    "        # Transformer编码器层\n",
    "        encoder_layer = nn.TransformerEncoderLayer(d_model=embed_dim, nhead=num_heads, dim_feedforward=mlp_dim)\n",
    "        self.encoder = nn.TransformerEncoder(encoder_layer, num_layers=depth)\n",
    "\n",
    "        # 分类头\n",
    "        self.classifier = nn.Linear(embed_dim, num_classes)\n",
    "\n",
    "        # 初始化参数\n",
    "        self._init_weights()\n",
    "\n",
    "    def _init_weights(self):\n",
    "        nn.init.xavier_uniform_(self.patch_embeddings.weight)\n",
    "        nn.init.normal_(self.position_embeddings, std=0.02)\n",
    "        nn.init.normal_(self.cls_token, std=0.02)\n",
    "        nn.init.xavier_uniform_(self.classifier.weight)\n",
    "\n",
    "    def forward(self, x):\n",
    "        # x: [batch_size, in_channels, img_size, img_size]\n",
    "        x = self.patch_embeddings(x)  # [batch_size, embed_dim, num_patches_sqrt, num_patches_sqrt]\n",
    "        x = x.flatten(2)  # [batch_size, embed_dim, num_patches]\n",
    "        x = x.transpose(1, 2)  # [batch_size, num_patches, embed_dim]\n",
    "\n",
    "        # 扩展cls_token\n",
    "        cls_tokens = self.cls_token.expand(x.size(0), -1, -1)  # [batch_size, 1, embed_dim]\n",
    "\n",
    "        # 拼接cls_token和图像块\n",
    "        x = torch.cat((cls_tokens, x), dim=1)  # [batch_size, num_patches + 1, embed_dim]\n",
    "\n",
    "        # 添加位置编码\n",
    "        x = x + self.position_embeddings  # [batch_size, num_patches + 1, embed_dim]\n",
    "\n",
    "        # 输入Transformer编码器\n",
    "        x = x.transpose(0, 1)  # [num_patches + 1, batch_size, embed_dim]\n",
    "        x = self.encoder(x)  # [num_patches + 1, batch_size, embed_dim]\n",
    "        x = x.transpose(0, 1)  # [batch_size, num_patches + 1, embed_dim]\n",
    "\n",
    "        # 取出cls_token对应的输出\n",
    "        x = x[:, 0, :]  # [batch_size, embed_dim]\n",
    "\n",
    "        # 分类\n",
    "        x = self.classifier(x)  # [batch_size, num_classes]\n",
    "        return x"
   ],
   "outputs": [],
   "execution_count": 11
  },
  {
   "cell_type": "markdown",
   "metadata": {},
   "source": "## 进行交叉验证训练和测试"
  },
  {
   "metadata": {},
   "cell_type": "markdown",
   "source": "### CNN交叉测试"
  },
  {
   "cell_type": "code",
   "metadata": {
    "ExecuteTime": {
     "end_time": "2024-12-04T23:37:33.920791Z",
     "start_time": "2024-12-04T23:28:05.290390Z"
    }
   },
   "source": [
    "# 交叉验证训练和测试\n",
    "kf = KFold(n_splits=5, shuffle=True, random_state=42)\n",
    "for fold, (train_idx, val_idx) in enumerate(kf.split(train_dataset)):\n",
    "    print(f\"Fold {fold + 1}\")\n",
    "    train_subset = torch.utils.data.Subset(train_dataset, train_idx)\n",
    "    val_subset = torch.utils.data.Subset(train_dataset, val_idx)\n",
    "    train_loader = DataLoader(train_subset, batch_size=THE_BATCH_SIZE, shuffle=True)\n",
    "    val_loader = DataLoader(val_subset, batch_size=THE_BATCH_SIZE, shuffle=False)\n",
    "\n",
    "    model = ExtendedCNN().to(DEVICE)  # Move model to device\n",
    "    criterion = nn.CrossEntropyLoss()\n",
    "    optimizer = optim.Adam(model.parameters(), lr=0.001)\n",
    "\n",
    "    # Train the model\n",
    "    for epoch in range(15):  # Adjust the number of epochs as needed\n",
    "        model.train()\n",
    "        for images, labels in train_loader:\n",
    "            images = images.to(DEVICE)  # Move data to device\n",
    "            labels = labels.to(DEVICE)  # Move labels to device\n",
    "            optimizer.zero_grad()\n",
    "            outputs = model(images)\n",
    "            loss = criterion(outputs, labels)\n",
    "            loss.backward()\n",
    "            optimizer.step()\n",
    "\n",
    "        # Evaluate the model on the validation set\n",
    "        model.eval()\n",
    "        correct = 0\n",
    "        total = 0\n",
    "        with torch.no_grad():\n",
    "            for images, labels in val_loader:\n",
    "                images = images.to(DEVICE)  # Move data to device\n",
    "                labels = labels.to(DEVICE)  # Move labels to device\n",
    "                outputs = model(images)\n",
    "                _, predicted = torch.max(outputs.data, 1)\n",
    "                total += labels.size(0)\n",
    "                correct += (predicted == labels).sum().item()\n",
    "        accuracy = 100 * correct / total\n",
    "        print(f\"Epoch {epoch + 1}, Validation Accuracy: {accuracy:.2f}%\")"
   ],
   "outputs": [
    {
     "name": "stdout",
     "output_type": "stream",
     "text": [
      "Fold 1\n",
      "Epoch 1, Validation Accuracy: 88.02%\n",
      "Epoch 2, Validation Accuracy: 93.97%\n",
      "Epoch 3, Validation Accuracy: 94.50%\n",
      "Epoch 4, Validation Accuracy: 94.15%\n",
      "Epoch 5, Validation Accuracy: 95.46%\n",
      "Epoch 6, Validation Accuracy: 96.17%\n",
      "Epoch 7, Validation Accuracy: 95.95%\n",
      "Epoch 8, Validation Accuracy: 96.28%\n",
      "Epoch 9, Validation Accuracy: 96.28%\n",
      "Epoch 10, Validation Accuracy: 96.09%\n",
      "Epoch 11, Validation Accuracy: 96.80%\n",
      "Epoch 12, Validation Accuracy: 96.38%\n",
      "Epoch 13, Validation Accuracy: 96.77%\n",
      "Epoch 14, Validation Accuracy: 96.12%\n",
      "Epoch 15, Validation Accuracy: 96.79%\n",
      "Fold 2\n",
      "Epoch 1, Validation Accuracy: 87.59%\n"
     ]
    },
    {
     "ename": "KeyboardInterrupt",
     "evalue": "",
     "output_type": "error",
     "traceback": [
      "\u001B[1;31m---------------------------------------------------------------------------\u001B[0m",
      "\u001B[1;31mKeyboardInterrupt\u001B[0m                         Traceback (most recent call last)",
      "Cell \u001B[1;32mIn[8], line 18\u001B[0m\n\u001B[0;32m     16\u001B[0m model\u001B[38;5;241m.\u001B[39mtrain()\n\u001B[0;32m     17\u001B[0m \u001B[38;5;28;01mfor\u001B[39;00m images, labels \u001B[38;5;129;01min\u001B[39;00m train_loader:\n\u001B[1;32m---> 18\u001B[0m     images \u001B[38;5;241m=\u001B[39m images\u001B[38;5;241m.\u001B[39mto(DEVICE)  \u001B[38;5;66;03m# Move data to device\u001B[39;00m\n\u001B[0;32m     19\u001B[0m     labels \u001B[38;5;241m=\u001B[39m labels\u001B[38;5;241m.\u001B[39mto(DEVICE)  \u001B[38;5;66;03m# Move labels to device\u001B[39;00m\n\u001B[0;32m     20\u001B[0m     optimizer\u001B[38;5;241m.\u001B[39mzero_grad()\n",
      "\u001B[1;31mKeyboardInterrupt\u001B[0m: "
     ]
    }
   ],
   "execution_count": 8
  },
  {
   "metadata": {
    "ExecuteTime": {
     "end_time": "2024-12-05T01:56:54.643336Z",
     "start_time": "2024-12-05T01:48:52.643084Z"
    }
   },
   "cell_type": "code",
   "source": [
    "kf = KFold(n_splits=5, shuffle=True, random_state=42)\n",
    "total_epochs_x = 15\n",
    "for fold, (train_idx, val_idx) in enumerate(kf.split(train_dataset)):\n",
    "    print(f\"Fold {fold + 1}\")\n",
    "    train_subset = torch.utils.data.Subset(train_dataset, train_idx)\n",
    "    val_subset = torch.utils.data.Subset(train_dataset, val_idx)\n",
    "    train_loader = DataLoader(train_subset, batch_size=THE_BATCH_SIZE, shuffle=True)\n",
    "    val_loader = DataLoader(val_subset, batch_size=THE_BATCH_SIZE, shuffle=False)\n",
    "\n",
    "    model = ExtendedCNN().to(DEVICE)  # Move model to device\n",
    "    criterion = nn.CrossEntropyLoss()\n",
    "    optimizer = optim.Adam(model.parameters(), lr=0.001, weight_decay=0.01)\n",
    "    scheduler = CosineAnnealingLR(optimizer, T_max=total_epochs)\n",
    "\n",
    "    # Train the model\n",
    "    for epoch in range(total_epochs_x):  # Adjust the number of epochs as needed\n",
    "        print(f\"Epoch: {epoch + 1}\")\n",
    "        model.train()\n",
    "        for images, labels in train_loader:\n",
    "            images = images.to(DEVICE)  # Move data to device\n",
    "            labels = labels.to(DEVICE)  # Move labels to device\n",
    "            optimizer.zero_grad()\n",
    "            outputs = model(images)\n",
    "            loss = criterion(outputs, labels)\n",
    "            loss.backward()\n",
    "            optimizer.step()\n",
    "        # 在每个epoch结束后更新学习率\n",
    "        scheduler.step()\n",
    "\n",
    "        # 可选：打印当前学习率\n",
    "        current_lr = optimizer.param_groups[0]['lr']\n",
    "        print(f\"Current Learning Rate: {current_lr:.6f}\")\n",
    "\n",
    "        # Evaluate the model on the validation set\n",
    "        model.eval()\n",
    "        correct = 0\n",
    "        total = 0\n",
    "        with torch.no_grad():\n",
    "            for images, labels in val_loader:\n",
    "                images = images.to(DEVICE)  # Move data to device\n",
    "                labels = labels.to(DEVICE)  # Move labels to device\n",
    "                outputs = model(images)\n",
    "                _, predicted = torch.max(outputs.data, 1)\n",
    "                total += labels.size(0)\n",
    "                correct += (predicted == labels).sum().item()\n",
    "        accuracy = 100 * correct / total\n",
    "        print(f\"Validation Accuracy: {accuracy:.2f}%\")"
   ],
   "outputs": [
    {
     "name": "stdout",
     "output_type": "stream",
     "text": [
      "Fold 1\n",
      "Epoch: 1\n",
      "Current Learning Rate: 0.000989\n",
      "Validation Accuracy: 84.09%\n",
      "Epoch: 2\n",
      "Current Learning Rate: 0.000957\n",
      "Validation Accuracy: 88.14%\n",
      "Epoch: 3\n",
      "Current Learning Rate: 0.000905\n",
      "Validation Accuracy: 91.38%\n",
      "Epoch: 4\n",
      "Current Learning Rate: 0.000835\n",
      "Validation Accuracy: 92.88%\n",
      "Epoch: 5\n",
      "Current Learning Rate: 0.000750\n",
      "Validation Accuracy: 91.95%\n",
      "Epoch: 6\n",
      "Current Learning Rate: 0.000655\n",
      "Validation Accuracy: 93.35%\n",
      "Epoch: 7\n",
      "Current Learning Rate: 0.000552\n",
      "Validation Accuracy: 92.16%\n",
      "Epoch: 8\n",
      "Current Learning Rate: 0.000448\n",
      "Validation Accuracy: 93.58%\n",
      "Epoch: 9\n",
      "Current Learning Rate: 0.000345\n",
      "Validation Accuracy: 93.36%\n",
      "Epoch: 10\n",
      "Current Learning Rate: 0.000250\n",
      "Validation Accuracy: 94.72%\n",
      "Epoch: 11\n",
      "Current Learning Rate: 0.000165\n",
      "Validation Accuracy: 95.11%\n",
      "Epoch: 12\n",
      "Current Learning Rate: 0.000095\n",
      "Validation Accuracy: 95.62%\n",
      "Epoch: 13\n",
      "Current Learning Rate: 0.000043\n",
      "Validation Accuracy: 95.91%\n",
      "Epoch: 14\n",
      "Current Learning Rate: 0.000011\n",
      "Validation Accuracy: 96.09%\n",
      "Epoch: 15\n",
      "Current Learning Rate: 0.000000\n",
      "Validation Accuracy: 96.29%\n",
      "Epoch: 16\n",
      "Current Learning Rate: 0.000011\n",
      "Validation Accuracy: 96.30%\n",
      "Epoch: 17\n",
      "Current Learning Rate: 0.000043\n",
      "Validation Accuracy: 96.25%\n",
      "Epoch: 18\n",
      "Current Learning Rate: 0.000095\n",
      "Validation Accuracy: 96.08%\n",
      "Epoch: 19\n",
      "Current Learning Rate: 0.000165\n",
      "Validation Accuracy: 95.83%\n",
      "Epoch: 20\n"
     ]
    },
    {
     "ename": "KeyboardInterrupt",
     "evalue": "",
     "output_type": "error",
     "traceback": [
      "\u001B[1;31m---------------------------------------------------------------------------\u001B[0m",
      "\u001B[1;31mKeyboardInterrupt\u001B[0m                         Traceback (most recent call last)",
      "Cell \u001B[1;32mIn[11], line 20\u001B[0m\n\u001B[0;32m     18\u001B[0m model\u001B[38;5;241m.\u001B[39mtrain()\n\u001B[0;32m     19\u001B[0m \u001B[38;5;28;01mfor\u001B[39;00m images, labels \u001B[38;5;129;01min\u001B[39;00m train_loader:\n\u001B[1;32m---> 20\u001B[0m     images \u001B[38;5;241m=\u001B[39m images\u001B[38;5;241m.\u001B[39mto(DEVICE)  \u001B[38;5;66;03m# Move data to device\u001B[39;00m\n\u001B[0;32m     21\u001B[0m     labels \u001B[38;5;241m=\u001B[39m labels\u001B[38;5;241m.\u001B[39mto(DEVICE)  \u001B[38;5;66;03m# Move labels to device\u001B[39;00m\n\u001B[0;32m     22\u001B[0m     optimizer\u001B[38;5;241m.\u001B[39mzero_grad()\n",
      "\u001B[1;31mKeyboardInterrupt\u001B[0m: "
     ]
    }
   ],
   "execution_count": 11
  },
  {
   "metadata": {},
   "cell_type": "markdown",
   "source": "### Transformer交叉测试"
  },
  {
   "metadata": {
    "ExecuteTime": {
     "end_time": "2024-12-05T01:19:23.052830Z",
     "start_time": "2024-12-05T00:14:22.166578Z"
    }
   },
   "cell_type": "code",
   "source": [
    "kf = KFold(n_splits=5, shuffle=True, random_state=42)\n",
    "total_epochs = 100\n",
    "for fold, (train_idx, val_idx) in enumerate(kf.split(train_dataset)):\n",
    "    print(f\"Fold {fold + 1}\")\n",
    "    train_subset = torch.utils.data.Subset(train_dataset, train_idx)\n",
    "    val_subset = torch.utils.data.Subset(train_dataset, val_idx)\n",
    "    train_loader = DataLoader(train_subset, batch_size=THE_BATCH_SIZE, shuffle=True)\n",
    "    val_loader = DataLoader(val_subset, batch_size=THE_BATCH_SIZE, shuffle=False)\n",
    "\n",
    "    model = VisionTransformer().to(DEVICE)  # Move model to device\n",
    "    criterion = nn.CrossEntropyLoss()\n",
    "    optimizer = optim.AdamW(model.parameters(), lr=0.001, weight_decay=0.01)\n",
    "    scheduler = CosineAnnealingLR(optimizer, T_max=total_epochs)\n",
    "\n",
    "    # Train the model\n",
    "    for epoch in range(total_epochs):  # Adjust the number of epochs as needed\n",
    "        model.train()\n",
    "        for images, labels in train_loader:\n",
    "            images = images.to(DEVICE)  # Move data to device\n",
    "            labels = labels.to(DEVICE)  # Move labels to device\n",
    "            optimizer.zero_grad()\n",
    "            outputs = model(images)\n",
    "            loss = criterion(outputs, labels)\n",
    "            loss.backward()\n",
    "            optimizer.step()\n",
    "        # 在每个epoch结束后更新学习率\n",
    "        scheduler.step()\n",
    "\n",
    "        # 可选：打印当前学习率\n",
    "        current_lr = optimizer.param_groups[0]['lr']\n",
    "        print(f\"Current Learning Rate: {current_lr}\")\n",
    "\n",
    "        # Evaluate the model on the validation set\n",
    "        model.eval()\n",
    "        correct = 0\n",
    "        total = 0\n",
    "        with torch.no_grad():\n",
    "            for images, labels in val_loader:\n",
    "                images = images.to(DEVICE)  # Move data to device\n",
    "                labels = labels.to(DEVICE)  # Move labels to device\n",
    "                outputs = model(images)\n",
    "                _, predicted = torch.max(outputs.data, 1)\n",
    "                total += labels.size(0)\n",
    "                correct += (predicted == labels).sum().item()\n",
    "        accuracy = 100 * correct / total\n",
    "        print(f\"Epoch {epoch + 1}, Validation Accuracy: {accuracy:.2f}%\")"
   ],
   "outputs": [
    {
     "name": "stdout",
     "output_type": "stream",
     "text": [
      "Fold 1\n"
     ]
    },
    {
     "name": "stderr",
     "output_type": "stream",
     "text": [
      "D:\\anaconda3\\envs\\pytorch\\Lib\\site-packages\\torch\\nn\\modules\\transformer.py:379: UserWarning: enable_nested_tensor is True, but self.use_nested_tensor is False because encoder_layer.self_attn.batch_first was not True(use batch_first for better inference performance)\n",
      "  warnings.warn(\n"
     ]
    },
    {
     "name": "stdout",
     "output_type": "stream",
     "text": [
      "Current Learning Rate: 0.0009997532801828658\n",
      "Epoch 1, Validation Accuracy: 9.78%\n",
      "Current Learning Rate: 0.0009990133642141358\n",
      "Epoch 2, Validation Accuracy: 9.79%\n",
      "Current Learning Rate: 0.00099778098230154\n",
      "Epoch 3, Validation Accuracy: 9.80%\n",
      "Current Learning Rate: 0.000996057350657239\n",
      "Epoch 4, Validation Accuracy: 11.02%\n",
      "Current Learning Rate: 0.0009938441702975688\n",
      "Epoch 5, Validation Accuracy: 10.82%\n",
      "Current Learning Rate: 0.0009911436253643444\n",
      "Epoch 6, Validation Accuracy: 11.02%\n",
      "Current Learning Rate: 0.0009879583809693736\n",
      "Epoch 7, Validation Accuracy: 11.02%\n",
      "Current Learning Rate: 0.0009842915805643154\n",
      "Epoch 8, Validation Accuracy: 9.78%\n",
      "Current Learning Rate: 0.0009801468428384714\n",
      "Epoch 9, Validation Accuracy: 11.02%\n",
      "Current Learning Rate: 0.0009755282581475767\n",
      "Epoch 10, Validation Accuracy: 11.02%\n",
      "Current Learning Rate: 0.0009704403844771127\n",
      "Epoch 11, Validation Accuracy: 9.79%\n",
      "Current Learning Rate: 0.0009648882429441257\n",
      "Epoch 12, Validation Accuracy: 11.02%\n",
      "Current Learning Rate: 0.0009588773128419905\n",
      "Epoch 13, Validation Accuracy: 11.02%\n",
      "Current Learning Rate: 0.0009524135262330098\n",
      "Epoch 14, Validation Accuracy: 11.02%\n",
      "Current Learning Rate: 0.0009455032620941839\n",
      "Epoch 15, Validation Accuracy: 11.02%\n",
      "Current Learning Rate: 0.0009381533400219318\n",
      "Epoch 16, Validation Accuracy: 11.02%\n",
      "Current Learning Rate: 0.0009303710135019719\n",
      "Epoch 17, Validation Accuracy: 11.02%\n",
      "Current Learning Rate: 0.0009221639627510076\n",
      "Epoch 18, Validation Accuracy: 11.02%\n",
      "Current Learning Rate: 0.000913540287137281\n",
      "Epoch 19, Validation Accuracy: 11.02%\n",
      "Current Learning Rate: 0.0009045084971874739\n",
      "Epoch 20, Validation Accuracy: 11.02%\n",
      "Current Learning Rate: 0.0008950775061878453\n",
      "Epoch 21, Validation Accuracy: 11.02%\n",
      "Current Learning Rate: 0.0008852566213878948\n",
      "Epoch 22, Validation Accuracy: 11.02%\n",
      "Current Learning Rate: 0.0008750555348152299\n",
      "Epoch 23, Validation Accuracy: 11.02%\n",
      "Current Learning Rate: 0.0008644843137107058\n",
      "Epoch 24, Validation Accuracy: 11.02%\n",
      "Current Learning Rate: 0.0008535533905932738\n",
      "Epoch 25, Validation Accuracy: 11.02%\n",
      "Current Learning Rate: 0.0008422735529643445\n",
      "Epoch 26, Validation Accuracy: 11.02%\n"
     ]
    },
    {
     "ename": "KeyboardInterrupt",
     "evalue": "",
     "output_type": "error",
     "traceback": [
      "\u001B[1;31m---------------------------------------------------------------------------\u001B[0m",
      "\u001B[1;31mKeyboardInterrupt\u001B[0m                         Traceback (most recent call last)",
      "Cell \u001B[1;32mIn[16], line 19\u001B[0m\n\u001B[0;32m     17\u001B[0m model\u001B[38;5;241m.\u001B[39mtrain()\n\u001B[0;32m     18\u001B[0m \u001B[38;5;28;01mfor\u001B[39;00m images, labels \u001B[38;5;129;01min\u001B[39;00m train_loader:\n\u001B[1;32m---> 19\u001B[0m     images \u001B[38;5;241m=\u001B[39m images\u001B[38;5;241m.\u001B[39mto(DEVICE)  \u001B[38;5;66;03m# Move data to device\u001B[39;00m\n\u001B[0;32m     20\u001B[0m     labels \u001B[38;5;241m=\u001B[39m labels\u001B[38;5;241m.\u001B[39mto(DEVICE)  \u001B[38;5;66;03m# Move labels to device\u001B[39;00m\n\u001B[0;32m     21\u001B[0m     optimizer\u001B[38;5;241m.\u001B[39mzero_grad()\n",
      "\u001B[1;31mKeyboardInterrupt\u001B[0m: "
     ]
    }
   ],
   "execution_count": 16
  },
  {
   "cell_type": "markdown",
   "metadata": {},
   "source": "## 使用整个训练集训练模型并在测试集上进行推理"
  },
  {
   "metadata": {},
   "cell_type": "markdown",
   "source": "### CNN推理"
  },
  {
   "cell_type": "code",
   "metadata": {
    "ExecuteTime": {
     "end_time": "2024-12-05T02:10:32.464856Z",
     "start_time": "2024-12-05T02:10:09.624548Z"
    }
   },
   "source": [
    "# Train the model on the entire training set\n",
    "print(\"Training on the entire dataset\")\n",
    "train_loader_entire = DataLoader(train_dataset, batch_size=THE_BATCH_SIZE, shuffle=True)\n",
    "modelF = ExtendedCNN().to(DEVICE)  # Reinitialize the model\n",
    "criterion = nn.CrossEntropyLoss()\n",
    "optimizer = optim.Adam(model.parameters(), lr=0.001, weight_decay=0.01)\n",
    "#scheduler = CosineAnnealingLR(optimizer, T_max=total_epochs)\n",
    "\n",
    "for epoch in range(15):  # Adjust the number of epochs as needed\n",
    "    print(f\"Epoch: {epoch + 1}\")\n",
    "    modelF.train()\n",
    "    for images, labels in train_loader_entire:\n",
    "        images = images.to(DEVICE)  # Move data to device\n",
    "        labels = labels.to(DEVICE)  # Move labels to device\n",
    "        optimizer.zero_grad()\n",
    "        outputs = modelF(images)\n",
    "        loss = criterion(outputs, labels)\n",
    "        loss.backward()\n",
    "        optimizer.step()\n",
    "    # 在每个epoch结束后更新学习率\n",
    "    #scheduler.step()\n",
    "\n",
    "    # 可选：打印当前学习率\n",
    "    current_lr = optimizer.param_groups[0]['lr']\n",
    "    print(f\"Current Learning Rate: {current_lr:.6f}\")\n",
    "\n",
    "# Perform inference on the test dataset\n",
    "with open(TEST_PKL_FILE, 'rb') as file:\n",
    "    test_data = pickle.load(file)\n",
    "\n",
    "test_dataset = torch.tensor(test_data, dtype=torch.float32)\n",
    "test_loader = DataLoader(test_dataset, batch_size=THE_BATCH_SIZE, shuffle=False)\n",
    "\n",
    "modelF.eval()\n",
    "predictions = []\n",
    "with torch.no_grad():\n",
    "    for images in test_loader:\n",
    "        images = images.to(DEVICE)  # Move test data to device\n",
    "        outputs = modelF(images)\n",
    "        _, predicted = torch.max(outputs.data, 1)\n",
    "        predictions.extend(predicted.cpu().numpy())\n",
    "\n",
    "# Save the prediction results to a CSV file\n",
    "submission_df = pd.DataFrame({\n",
    "    'id': np.arange(1, len(predictions) + 1),\n",
    "    'class': predictions\n",
    "})\n",
    "submission_df.to_csv(SUBMISSION_FILE, index=False)\n",
    "print(\"Prediction results saved to: \" + SUBMISSION_FILE)"
   ],
   "outputs": [
    {
     "name": "stdout",
     "output_type": "stream",
     "text": [
      "Training on the entire dataset\n",
      "Epoch: 1\n"
     ]
    },
    {
     "ename": "KeyboardInterrupt",
     "evalue": "",
     "output_type": "error",
     "traceback": [
      "\u001B[1;31m---------------------------------------------------------------------------\u001B[0m",
      "\u001B[1;31mKeyboardInterrupt\u001B[0m                         Traceback (most recent call last)",
      "Cell \u001B[1;32mIn[14], line 12\u001B[0m\n\u001B[0;32m     10\u001B[0m \u001B[38;5;28mprint\u001B[39m(\u001B[38;5;124mf\u001B[39m\u001B[38;5;124m\"\u001B[39m\u001B[38;5;124mEpoch: \u001B[39m\u001B[38;5;132;01m{\u001B[39;00mepoch\u001B[38;5;250m \u001B[39m\u001B[38;5;241m+\u001B[39m\u001B[38;5;250m \u001B[39m\u001B[38;5;241m1\u001B[39m\u001B[38;5;132;01m}\u001B[39;00m\u001B[38;5;124m\"\u001B[39m)\n\u001B[0;32m     11\u001B[0m modelF\u001B[38;5;241m.\u001B[39mtrain()\n\u001B[1;32m---> 12\u001B[0m \u001B[38;5;28;01mfor\u001B[39;00m images, labels \u001B[38;5;129;01min\u001B[39;00m train_loader_entire:\n\u001B[0;32m     13\u001B[0m     images \u001B[38;5;241m=\u001B[39m images\u001B[38;5;241m.\u001B[39mto(DEVICE)  \u001B[38;5;66;03m# Move data to device\u001B[39;00m\n\u001B[0;32m     14\u001B[0m     labels \u001B[38;5;241m=\u001B[39m labels\u001B[38;5;241m.\u001B[39mto(DEVICE)  \u001B[38;5;66;03m# Move labels to device\u001B[39;00m\n",
      "File \u001B[1;32mD:\\anaconda3\\envs\\pytorch\\Lib\\site-packages\\torch\\utils\\data\\dataloader.py:701\u001B[0m, in \u001B[0;36m_BaseDataLoaderIter.__next__\u001B[1;34m(self)\u001B[0m\n\u001B[0;32m    698\u001B[0m \u001B[38;5;28;01mif\u001B[39;00m \u001B[38;5;28mself\u001B[39m\u001B[38;5;241m.\u001B[39m_sampler_iter \u001B[38;5;129;01mis\u001B[39;00m \u001B[38;5;28;01mNone\u001B[39;00m:\n\u001B[0;32m    699\u001B[0m     \u001B[38;5;66;03m# TODO(https://github.com/pytorch/pytorch/issues/76750)\u001B[39;00m\n\u001B[0;32m    700\u001B[0m     \u001B[38;5;28mself\u001B[39m\u001B[38;5;241m.\u001B[39m_reset()  \u001B[38;5;66;03m# type: ignore[call-arg]\u001B[39;00m\n\u001B[1;32m--> 701\u001B[0m data \u001B[38;5;241m=\u001B[39m \u001B[38;5;28mself\u001B[39m\u001B[38;5;241m.\u001B[39m_next_data()\n\u001B[0;32m    702\u001B[0m \u001B[38;5;28mself\u001B[39m\u001B[38;5;241m.\u001B[39m_num_yielded \u001B[38;5;241m+\u001B[39m\u001B[38;5;241m=\u001B[39m \u001B[38;5;241m1\u001B[39m\n\u001B[0;32m    703\u001B[0m \u001B[38;5;28;01mif\u001B[39;00m (\n\u001B[0;32m    704\u001B[0m     \u001B[38;5;28mself\u001B[39m\u001B[38;5;241m.\u001B[39m_dataset_kind \u001B[38;5;241m==\u001B[39m _DatasetKind\u001B[38;5;241m.\u001B[39mIterable\n\u001B[0;32m    705\u001B[0m     \u001B[38;5;129;01mand\u001B[39;00m \u001B[38;5;28mself\u001B[39m\u001B[38;5;241m.\u001B[39m_IterableDataset_len_called \u001B[38;5;129;01mis\u001B[39;00m \u001B[38;5;129;01mnot\u001B[39;00m \u001B[38;5;28;01mNone\u001B[39;00m\n\u001B[0;32m    706\u001B[0m     \u001B[38;5;129;01mand\u001B[39;00m \u001B[38;5;28mself\u001B[39m\u001B[38;5;241m.\u001B[39m_num_yielded \u001B[38;5;241m>\u001B[39m \u001B[38;5;28mself\u001B[39m\u001B[38;5;241m.\u001B[39m_IterableDataset_len_called\n\u001B[0;32m    707\u001B[0m ):\n",
      "File \u001B[1;32mD:\\anaconda3\\envs\\pytorch\\Lib\\site-packages\\torch\\utils\\data\\dataloader.py:757\u001B[0m, in \u001B[0;36m_SingleProcessDataLoaderIter._next_data\u001B[1;34m(self)\u001B[0m\n\u001B[0;32m    755\u001B[0m \u001B[38;5;28;01mdef\u001B[39;00m \u001B[38;5;21m_next_data\u001B[39m(\u001B[38;5;28mself\u001B[39m):\n\u001B[0;32m    756\u001B[0m     index \u001B[38;5;241m=\u001B[39m \u001B[38;5;28mself\u001B[39m\u001B[38;5;241m.\u001B[39m_next_index()  \u001B[38;5;66;03m# may raise StopIteration\u001B[39;00m\n\u001B[1;32m--> 757\u001B[0m     data \u001B[38;5;241m=\u001B[39m \u001B[38;5;28mself\u001B[39m\u001B[38;5;241m.\u001B[39m_dataset_fetcher\u001B[38;5;241m.\u001B[39mfetch(index)  \u001B[38;5;66;03m# may raise StopIteration\u001B[39;00m\n\u001B[0;32m    758\u001B[0m     \u001B[38;5;28;01mif\u001B[39;00m \u001B[38;5;28mself\u001B[39m\u001B[38;5;241m.\u001B[39m_pin_memory:\n\u001B[0;32m    759\u001B[0m         data \u001B[38;5;241m=\u001B[39m _utils\u001B[38;5;241m.\u001B[39mpin_memory\u001B[38;5;241m.\u001B[39mpin_memory(data, \u001B[38;5;28mself\u001B[39m\u001B[38;5;241m.\u001B[39m_pin_memory_device)\n",
      "File \u001B[1;32mD:\\anaconda3\\envs\\pytorch\\Lib\\site-packages\\torch\\utils\\data\\_utils\\fetch.py:55\u001B[0m, in \u001B[0;36m_MapDatasetFetcher.fetch\u001B[1;34m(self, possibly_batched_index)\u001B[0m\n\u001B[0;32m     53\u001B[0m \u001B[38;5;28;01melse\u001B[39;00m:\n\u001B[0;32m     54\u001B[0m     data \u001B[38;5;241m=\u001B[39m \u001B[38;5;28mself\u001B[39m\u001B[38;5;241m.\u001B[39mdataset[possibly_batched_index]\n\u001B[1;32m---> 55\u001B[0m \u001B[38;5;28;01mreturn\u001B[39;00m \u001B[38;5;28mself\u001B[39m\u001B[38;5;241m.\u001B[39mcollate_fn(data)\n",
      "File \u001B[1;32mD:\\anaconda3\\envs\\pytorch\\Lib\\site-packages\\torch\\utils\\data\\_utils\\collate.py:398\u001B[0m, in \u001B[0;36mdefault_collate\u001B[1;34m(batch)\u001B[0m\n\u001B[0;32m    337\u001B[0m \u001B[38;5;28;01mdef\u001B[39;00m \u001B[38;5;21mdefault_collate\u001B[39m(batch):\n\u001B[0;32m    338\u001B[0m \u001B[38;5;250m    \u001B[39m\u001B[38;5;124mr\u001B[39m\u001B[38;5;124;03m\"\"\"\u001B[39;00m\n\u001B[0;32m    339\u001B[0m \u001B[38;5;124;03m    Take in a batch of data and put the elements within the batch into a tensor with an additional outer dimension - batch size.\u001B[39;00m\n\u001B[0;32m    340\u001B[0m \n\u001B[1;32m   (...)\u001B[0m\n\u001B[0;32m    396\u001B[0m \u001B[38;5;124;03m        >>> default_collate(batch)  # Handle `CustomType` automatically\u001B[39;00m\n\u001B[0;32m    397\u001B[0m \u001B[38;5;124;03m    \"\"\"\u001B[39;00m\n\u001B[1;32m--> 398\u001B[0m     \u001B[38;5;28;01mreturn\u001B[39;00m collate(batch, collate_fn_map\u001B[38;5;241m=\u001B[39mdefault_collate_fn_map)\n",
      "File \u001B[1;32mD:\\anaconda3\\envs\\pytorch\\Lib\\site-packages\\torch\\utils\\data\\_utils\\collate.py:212\u001B[0m, in \u001B[0;36mcollate\u001B[1;34m(batch, collate_fn_map)\u001B[0m\n\u001B[0;32m    208\u001B[0m transposed \u001B[38;5;241m=\u001B[39m \u001B[38;5;28mlist\u001B[39m(\u001B[38;5;28mzip\u001B[39m(\u001B[38;5;241m*\u001B[39mbatch))  \u001B[38;5;66;03m# It may be accessed twice, so we use a list.\u001B[39;00m\n\u001B[0;32m    210\u001B[0m \u001B[38;5;28;01mif\u001B[39;00m \u001B[38;5;28misinstance\u001B[39m(elem, \u001B[38;5;28mtuple\u001B[39m):\n\u001B[0;32m    211\u001B[0m     \u001B[38;5;28;01mreturn\u001B[39;00m [\n\u001B[1;32m--> 212\u001B[0m         collate(samples, collate_fn_map\u001B[38;5;241m=\u001B[39mcollate_fn_map)\n\u001B[0;32m    213\u001B[0m         \u001B[38;5;28;01mfor\u001B[39;00m samples \u001B[38;5;129;01min\u001B[39;00m transposed\n\u001B[0;32m    214\u001B[0m     ]  \u001B[38;5;66;03m# Backwards compatibility.\u001B[39;00m\n\u001B[0;32m    215\u001B[0m \u001B[38;5;28;01melse\u001B[39;00m:\n\u001B[0;32m    216\u001B[0m     \u001B[38;5;28;01mtry\u001B[39;00m:\n",
      "File \u001B[1;32mD:\\anaconda3\\envs\\pytorch\\Lib\\site-packages\\torch\\utils\\data\\_utils\\collate.py:155\u001B[0m, in \u001B[0;36mcollate\u001B[1;34m(batch, collate_fn_map)\u001B[0m\n\u001B[0;32m    153\u001B[0m \u001B[38;5;28;01mif\u001B[39;00m collate_fn_map \u001B[38;5;129;01mis\u001B[39;00m \u001B[38;5;129;01mnot\u001B[39;00m \u001B[38;5;28;01mNone\u001B[39;00m:\n\u001B[0;32m    154\u001B[0m     \u001B[38;5;28;01mif\u001B[39;00m elem_type \u001B[38;5;129;01min\u001B[39;00m collate_fn_map:\n\u001B[1;32m--> 155\u001B[0m         \u001B[38;5;28;01mreturn\u001B[39;00m collate_fn_map[elem_type](batch, collate_fn_map\u001B[38;5;241m=\u001B[39mcollate_fn_map)\n\u001B[0;32m    157\u001B[0m     \u001B[38;5;28;01mfor\u001B[39;00m collate_type \u001B[38;5;129;01min\u001B[39;00m collate_fn_map:\n\u001B[0;32m    158\u001B[0m         \u001B[38;5;28;01mif\u001B[39;00m \u001B[38;5;28misinstance\u001B[39m(elem, collate_type):\n",
      "File \u001B[1;32mD:\\anaconda3\\envs\\pytorch\\Lib\\site-packages\\torch\\utils\\data\\_utils\\collate.py:272\u001B[0m, in \u001B[0;36mcollate_tensor_fn\u001B[1;34m(batch, collate_fn_map)\u001B[0m\n\u001B[0;32m    270\u001B[0m     storage \u001B[38;5;241m=\u001B[39m elem\u001B[38;5;241m.\u001B[39m_typed_storage()\u001B[38;5;241m.\u001B[39m_new_shared(numel, device\u001B[38;5;241m=\u001B[39melem\u001B[38;5;241m.\u001B[39mdevice)\n\u001B[0;32m    271\u001B[0m     out \u001B[38;5;241m=\u001B[39m elem\u001B[38;5;241m.\u001B[39mnew(storage)\u001B[38;5;241m.\u001B[39mresize_(\u001B[38;5;28mlen\u001B[39m(batch), \u001B[38;5;241m*\u001B[39m\u001B[38;5;28mlist\u001B[39m(elem\u001B[38;5;241m.\u001B[39msize()))\n\u001B[1;32m--> 272\u001B[0m \u001B[38;5;28;01mreturn\u001B[39;00m torch\u001B[38;5;241m.\u001B[39mstack(batch, \u001B[38;5;241m0\u001B[39m, out\u001B[38;5;241m=\u001B[39mout)\n",
      "\u001B[1;31mKeyboardInterrupt\u001B[0m: "
     ]
    }
   ],
   "execution_count": 14
  }
 ],
 "metadata": {
  "accelerator": "GPU",
  "colab": {
   "gpuType": "T4",
   "provenance": []
  },
  "kernelspec": {
   "display_name": "Python 3 (ipykernel)",
   "language": "python",
   "name": "python3"
  },
  "language_info": {
   "codemirror_mode": {
    "name": "ipython",
    "version": 3
   },
   "file_extension": ".py",
   "mimetype": "text/x-python",
   "name": "python",
   "nbconvert_exporter": "python",
   "pygments_lexer": "ipython3",
   "version": "3.12.7"
  }
 },
 "nbformat": 4,
 "nbformat_minor": 0
}
