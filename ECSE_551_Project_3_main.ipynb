{
  "cells": [
    {
      "cell_type": "markdown",
      "metadata": {
        "id": "7jA04fuOR3Dy"
      },
      "source": [
        "# ECSE 551 MP3 G17"
      ]
    },
    {
      "cell_type": "markdown",
      "metadata": {
        "id": "0PtEpsotR6FH"
      },
      "source": [
        "## Define constants, import libraries, setup device"
      ]
    },
    {
      "cell_type": "code",
      "metadata": {
        "colab": {
          "base_uri": "https://localhost:8080/"
        },
        "id": "yn24H1_YQsbg",
        "outputId": "76d07322-8096-4f1d-e77c-1d6de29ba5de",
        "ExecuteTime": {
          "end_time": "2024-11-26T22:42:51.961608Z",
          "start_time": "2024-11-26T22:42:50.212684Z"
        }
      },
      "source": [
        "# Connect to Google Drive to load the dataset\n",
        "# Make sure to run this cell first!\n",
        "from google.colab import drive\n",
        "import numpy as np\n",
        "import pandas as pd\n",
        "import pickle\n",
        "import matplotlib.pyplot as plt\n",
        "import os\n",
        "import torch\n",
        "import torch.nn as nn\n",
        "import torch.optim as optim\n",
        "from torch.utils.data import DataLoader, Dataset\n",
        "from sklearn.model_selection import KFold\n",
        "\n",
        "drive.mount('/content/drive')\n",
        "# Define Global Constants\n",
        "# Please modify the path according to the actual situation\n",
        "TRAIN_PKL_FILE = '/content/drive/MyDrive/Colab Notebooks/data/551Project3/Train.pkl'\n",
        "TRAIN_LABEL_FILE = '/content/drive/MyDrive/Colab Notebooks/data/551Project3/Train_labels.csv'\n",
        "TEST_PKL_FILE = '/content/drive/MyDrive/Colab Notebooks/data/551Project3/Test.pkl'\n",
        "SUBMISSION_FILE = '/content/drive/MyDrive/Colab Notebooks/data/551Project3/Submission.csv'\n",
        "\n",
        "# Set up the device\n",
        "# For Google Colab, switch the GPU runtime to gain best performance\n",
        "DEVICE = torch.device(\"cuda\" if torch.cuda.is_available() else \"cpu\")\n",
        "print(\"Using device:\", DEVICE)"
      ],
      "outputs": [
        {
          "output_type": "stream",
          "name": "stdout",
          "text": [
            "Drive already mounted at /content/drive; to attempt to forcibly remount, call drive.mount(\"/content/drive\", force_remount=True).\n",
            "Using device: cuda\n"
          ]
        }
      ],
      "execution_count": null
    },
    {
      "cell_type": "markdown",
      "metadata": {
        "id": "Mdk157xdTF-z"
      },
      "source": [
        "## Scripts Starts Here"
      ]
    },
    {
      "cell_type": "markdown",
      "metadata": {
        "id": "cYNPfIdAUr7V"
      },
      "source": [
        "### Load and Read the PKL Test Dataset"
      ]
    },
    {
      "cell_type": "code",
      "execution_count": null,
      "metadata": {
        "colab": {
          "base_uri": "https://localhost:8080/",
          "height": 487
        },
        "id": "638MRjaPTEPb",
        "outputId": "dd84d426-ee05-4a51-a7ed-92a44138e390"
      },
      "outputs": [
        {
          "output_type": "stream",
          "name": "stdout",
          "text": [
            "<class 'numpy.ndarray'>\n",
            "Data dimensions: (60000, 1, 28, 28)\n"
          ]
        },
        {
          "output_type": "display_data",
          "data": {
            "text/plain": [
              "<Figure size 640x480 with 1 Axes>"
            ],
            "image/png": "[encoded data removed]"
          },
          "metadata": {}
        }
      ],
      "source": [
        "# File paths\n",
        "pkl_file_path = TRAIN_PKL_FILE\n",
        "csv_file_path = TRAIN_LABEL_FILE\n",
        "\n",
        "# Open and load the pkl file\n",
        "with open(pkl_file_path, 'rb') as file:\n",
        "    data = pickle.load(file)\n",
        "\n",
        "# Load the CSV file\n",
        "labels_df = pd.read_csv(csv_file_path)\n",
        "\n",
        "# Create a dictionary to map IDs to classes\n",
        "labels_dict = dict(zip(labels_df['id'], labels_df['class']))\n",
        "\n",
        "# Check data structure\n",
        "print(type(data))  # View data type\n",
        "\n",
        "# If the data is an image array\n",
        "if isinstance(data, np.ndarray):\n",
        "    print(\"Data dimensions:\", data.shape)  # Check data dimensions\n",
        "\n",
        "    # Assign labels from the CSV file\n",
        "    image_labels = [labels_dict.get(i+1, 'Unknown') for i in range(len(data))]\n",
        "\n",
        "    # Display the first image (assuming it is a grayscale image)\n",
        "    plt.imshow(data[0].squeeze(), cmap='gray')\n",
        "    plt.title(f\"Label: {image_labels[0]}\")\n",
        "    plt.show()"
      ]
    },
    {
      "cell_type": "markdown",
      "metadata": {
        "id": "K31TXLdfqlC8"
      },
      "source": [
        "## CNN"
      ]
    },
    {
      "metadata": {
        "id": "I9kLuNm0qlC8"
      },
      "cell_type": "markdown",
      "source": [
        "### Prepare the data"
      ]
    },
    {
      "metadata": {
        "id": "eXsTA_3RqlC8"
      },
      "cell_type": "code",
      "outputs": [],
      "execution_count": null,
      "source": [
        "# 加载训练数据和标签\n",
        "with open(TRAIN_PKL_FILE, 'rb') as file:\n",
        "    train_data = pickle.load(file)\n",
        "\n",
        "labels_df = pd.read_csv(TRAIN_LABEL_FILE)\n",
        "labels_dict = dict(zip(labels_df['id'], labels_df['class']))\n",
        "train_labels = [labels_dict.get(i + 1, 'Unknown') for i in range(len(train_data))]\n",
        "\n",
        "# 定义自定义数据集\n",
        "class CustomDataset(Dataset):\n",
        "    def __init__(self, data, labels):\n",
        "        self.data = torch.tensor(data, dtype=torch.float32)\n",
        "        self.labels = torch.tensor(labels, dtype=torch.long)\n",
        "\n",
        "    def __len__(self):\n",
        "        return len(self.data)\n",
        "\n",
        "    def __getitem__(self, idx):\n",
        "        image = self.data[idx]\n",
        "        label = self.labels[idx]\n",
        "        return image, label\n",
        "\n",
        "# 创建数据集和数据加载器\n",
        "dataset = CustomDataset(train_data, train_labels)"
      ]
    },
    {
      "metadata": {
        "id": "uFqcAifXqlC9"
      },
      "cell_type": "markdown",
      "source": [
        "### Define the CNN Model"
      ]
    },
    {
      "metadata": {
        "id": "DAfCRkuqqlC9"
      },
      "cell_type": "code",
      "outputs": [],
      "execution_count": null,
      "source": [
        "# 定义 CNN 模型\n",
        "class SimpleCNN(nn.Module):\n",
        "    def __init__(self):\n",
        "        super(SimpleCNN, self).__init__()\n",
        "        self.conv1 = nn.Conv2d(1, 32, kernel_size=3, padding=1)\n",
        "        self.conv2 = nn.Conv2d(32, 64, kernel_size=3, padding=1)\n",
        "        self.pool = nn.MaxPool2d(2, 2)\n",
        "        self.fc1 = nn.Linear(64 * 7 * 7, 128)\n",
        "        self.fc2 = nn.Linear(128, 10)  # 假设有 10 个类别\n",
        "\n",
        "    def forward(self, x):\n",
        "        x = self.pool(torch.relu(self.conv1(x)))  # 移除了多余的 unsqueeze\n",
        "        x = self.pool(torch.relu(self.conv2(x)))\n",
        "        x = x.view(-1, 64 * 7 * 7)\n",
        "        x = torch.relu(self.fc1(x))\n",
        "        x = self.fc2(x)\n",
        "        return x"
      ]
    },
    {
      "metadata": {
        "id": "WlF90te5qlC9"
      },
      "cell_type": "markdown",
      "source": [
        "### X-Validation Training and Testing"
      ]
    },
    {
      "metadata": {
        "colab": {
          "base_uri": "https://localhost:8080/"
        },
        "id": "dRqWMboLqlC9",
        "outputId": "4950ee88-b808-43f9-f37a-1eb44ef5a643"
      },
      "cell_type": "code",
      "outputs": [
        {
          "output_type": "stream",
          "name": "stdout",
          "text": [
            "Fold 1\n",
            "Epoch 1, Validation Accuracy: 84.83%\n",
            "Epoch 2, Validation Accuracy: 88.91%\n",
            "Epoch 3, Validation Accuracy: 89.69%\n",
            "Epoch 4, Validation Accuracy: 91.21%\n",
            "Epoch 5, Validation Accuracy: 90.81%\n",
            "Epoch 6, Validation Accuracy: 91.18%\n",
            "Epoch 7, Validation Accuracy: 91.28%\n",
            "Epoch 8, Validation Accuracy: 91.43%\n",
            "Epoch 9, Validation Accuracy: 92.26%\n",
            "Epoch 10, Validation Accuracy: 91.52%\n",
            "Fold 2\n",
            "Epoch 1, Validation Accuracy: 83.64%\n",
            "Epoch 2, Validation Accuracy: 88.07%\n",
            "Epoch 3, Validation Accuracy: 89.56%\n",
            "Epoch 4, Validation Accuracy: 90.28%\n",
            "Epoch 5, Validation Accuracy: 90.77%\n",
            "Epoch 6, Validation Accuracy: 91.11%\n",
            "Epoch 7, Validation Accuracy: 90.61%\n",
            "Epoch 8, Validation Accuracy: 91.57%\n",
            "Epoch 9, Validation Accuracy: 91.57%\n",
            "Epoch 10, Validation Accuracy: 92.21%\n",
            "Fold 3\n",
            "Epoch 1, Validation Accuracy: 83.72%\n",
            "Epoch 2, Validation Accuracy: 89.47%\n",
            "Epoch 3, Validation Accuracy: 89.38%\n",
            "Epoch 4, Validation Accuracy: 89.01%\n",
            "Epoch 5, Validation Accuracy: 90.66%\n",
            "Epoch 6, Validation Accuracy: 91.92%\n",
            "Epoch 7, Validation Accuracy: 92.86%\n",
            "Epoch 8, Validation Accuracy: 92.47%\n",
            "Epoch 9, Validation Accuracy: 92.44%\n",
            "Epoch 10, Validation Accuracy: 92.77%\n",
            "Fold 4\n",
            "Epoch 1, Validation Accuracy: 78.73%\n",
            "Epoch 2, Validation Accuracy: 86.57%\n",
            "Epoch 3, Validation Accuracy: 87.90%\n",
            "Epoch 4, Validation Accuracy: 89.72%\n",
            "Epoch 5, Validation Accuracy: 90.02%\n",
            "Epoch 6, Validation Accuracy: 90.63%\n",
            "Epoch 7, Validation Accuracy: 90.49%\n",
            "Epoch 8, Validation Accuracy: 92.22%\n",
            "Epoch 9, Validation Accuracy: 91.83%\n",
            "Epoch 10, Validation Accuracy: 91.97%\n",
            "Fold 5\n",
            "Epoch 1, Validation Accuracy: 81.12%\n",
            "Epoch 2, Validation Accuracy: 84.32%\n",
            "Epoch 3, Validation Accuracy: 87.76%\n",
            "Epoch 4, Validation Accuracy: 89.22%\n",
            "Epoch 5, Validation Accuracy: 89.27%\n",
            "Epoch 6, Validation Accuracy: 89.77%\n",
            "Epoch 7, Validation Accuracy: 89.71%\n",
            "Epoch 8, Validation Accuracy: 90.55%\n",
            "Epoch 9, Validation Accuracy: 91.40%\n",
            "Epoch 10, Validation Accuracy: 91.38%\n"
          ]
        }
      ],
      "execution_count": null,
      "source": [
        "kf = KFold(n_splits=5, shuffle=True, random_state=42)\n",
        "for fold, (train_idx, val_idx) in enumerate(kf.split(dataset)):\n",
        "    print(f\"Fold {fold + 1}\")\n",
        "    train_subset = torch.utils.data.Subset(dataset, train_idx)\n",
        "    val_subset = torch.utils.data.Subset(dataset, val_idx)\n",
        "    train_loader = DataLoader(train_subset, batch_size=32, shuffle=True)\n",
        "    val_loader = DataLoader(val_subset, batch_size=32, shuffle=False)\n",
        "\n",
        "    model = SimpleCNN().to(DEVICE)  # 将模型移动到设备上\n",
        "    criterion = nn.CrossEntropyLoss()\n",
        "    optimizer = optim.Adam(model.parameters(), lr=0.001)\n",
        "\n",
        "    # 训练模型\n",
        "    for epoch in range(10):  # 根据需要调整 epoch 数量\n",
        "        model.train()\n",
        "        for images, labels in train_loader:\n",
        "            images = images.to(DEVICE)  # 移动数据到设备上\n",
        "            labels = labels.to(DEVICE)  # 移动标签到设备上\n",
        "            optimizer.zero_grad()\n",
        "            outputs = model(images)\n",
        "            loss = criterion(outputs, labels)\n",
        "            loss.backward()\n",
        "            optimizer.step()\n",
        "\n",
        "        # 在验证集上评估模型\n",
        "        model.eval()\n",
        "        correct = 0\n",
        "        total = 0\n",
        "        with torch.no_grad():\n",
        "            for images, labels in val_loader:\n",
        "                images = images.to(DEVICE)  # 移动数据到设备上\n",
        "                labels = labels.to(DEVICE)  # 移动标签到设备上\n",
        "                outputs = model(images)\n",
        "                _, predicted = torch.max(outputs.data, 1)\n",
        "                total += labels.size(0)\n",
        "                correct += (predicted == labels).sum().item()\n",
        "        accuracy = 100 * correct / total\n",
        "        print(f\"Epoch {epoch + 1}, Validation Accuracy: {accuracy:.2f}%\")"
      ]
    },
    {
      "metadata": {
        "id": "BRkVT3g1qlC9"
      },
      "cell_type": "markdown",
      "source": [
        "### Run Prediction on Test Dataset"
      ]
    },
    {
      "metadata": {
        "colab": {
          "base_uri": "https://localhost:8080/"
        },
        "id": "jhK17TdcqlC9",
        "outputId": "c31f1ec9-c476-4529-8bb9-4df26be87adf"
      },
      "cell_type": "code",
      "outputs": [
        {
          "output_type": "stream",
          "name": "stdout",
          "text": [
            "Predictions results have been saved to: /content/drive/MyDrive/Colab Notebooks/data/551Project3/Submission.csv\n"
          ]
        }
      ],
      "execution_count": null,
      "source": [
        "# 加载测试数据\n",
        "with open(TEST_PKL_FILE, 'rb') as file:\n",
        "    test_data = pickle.load(file)\n",
        "\n",
        "test_dataset = torch.tensor(test_data, dtype=torch.float32)\n",
        "test_loader = DataLoader(test_dataset, batch_size=32, shuffle=False)\n",
        "\n",
        "# 在测试集上进行推理\n",
        "model.eval()\n",
        "predictions = []\n",
        "with torch.no_grad():\n",
        "    for images in test_loader:\n",
        "        images = images.to(DEVICE)  # 移动测试数据到设备上\n",
        "        outputs = model(images)\n",
        "        _, predicted = torch.max(outputs.data, 1)\n",
        "        predictions.extend(predicted.cpu().numpy())\n",
        "\n",
        "# 保存预测结果到 CSV 文件\n",
        "submission_df = pd.DataFrame({\n",
        "    'id': np.arange(1, len(predictions) + 1),\n",
        "    'class': predictions\n",
        "})\n",
        "submission_df.to_csv(SUBMISSION_FILE, index=False)\n",
        "print(f\"Predictions results have been saved to: {SUBMISSION_FILE}\")"
      ]
    }
  ],
  "metadata": {
    "accelerator": "GPU",
    "colab": {
      "gpuType": "T4",
      "provenance": []
    },
    "kernelspec": {
      "display_name": "Python 3 (ipykernel)",
      "language": "python",
      "name": "python3"
    },
    "language_info": {
      "codemirror_mode": {
        "name": "ipython",
        "version": 3
      },
      "file_extension": ".py",
      "mimetype": "text/x-python",
      "name": "python",
      "nbconvert_exporter": "python",
      "pygments_lexer": "ipython3",
      "version": "3.12.7"
    }
  },
  "nbformat": 4,
  "nbformat_minor": 0
}